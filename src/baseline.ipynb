{
 "cells": [
  {
   "cell_type": "markdown",
   "id": "460ed303",
   "metadata": {},
   "source": [
    "# Baseline - preparación de los datos"
   ]
  },
  {
   "cell_type": "code",
   "execution_count": 1,
   "id": "b5f28562",
   "metadata": {},
   "outputs": [],
   "source": [
    "import pandas as pd\n",
    "import re\n",
    "import string\n",
    "\n",
    "import nltk\n",
    "from nltk.corpus import stopwords\n",
    "from nltk.stem import WordNetLemmatizer"
   ]
  },
  {
   "cell_type": "code",
   "execution_count": 2,
   "id": "a7c7fb19",
   "metadata": {},
   "outputs": [],
   "source": [
    "comments = pd.read_csv(\"../data/comments.csv\")"
   ]
  },
  {
   "cell_type": "code",
   "execution_count": 3,
   "id": "937593d6",
   "metadata": {},
   "outputs": [
    {
     "name": "stdout",
     "output_type": "stream",
     "text": [
      "(11113, 10)\n"
     ]
    },
    {
     "data": {
      "text/html": [
       "<div>\n",
       "<style scoped>\n",
       "    .dataframe tbody tr th:only-of-type {\n",
       "        vertical-align: middle;\n",
       "    }\n",
       "\n",
       "    .dataframe tbody tr th {\n",
       "        vertical-align: top;\n",
       "    }\n",
       "\n",
       "    .dataframe thead th {\n",
       "        text-align: right;\n",
       "    }\n",
       "</style>\n",
       "<table border=\"1\" class=\"dataframe\">\n",
       "  <thead>\n",
       "    <tr style=\"text-align: right;\">\n",
       "      <th></th>\n",
       "      <th>post_id</th>\n",
       "      <th>comment_id</th>\n",
       "      <th>author</th>\n",
       "      <th>created</th>\n",
       "      <th>score</th>\n",
       "      <th>body</th>\n",
       "      <th>vader_compound</th>\n",
       "      <th>sentiment_label</th>\n",
       "      <th>agrees</th>\n",
       "      <th>disagrees</th>\n",
       "    </tr>\n",
       "  </thead>\n",
       "  <tbody>\n",
       "    <tr>\n",
       "      <th>0</th>\n",
       "      <td>1nvfumo</td>\n",
       "      <td>nh892fi</td>\n",
       "      <td>u/MuptonBossman</td>\n",
       "      <td>2025-10-01T18:22:39+00:00</td>\n",
       "      <td>2836</td>\n",
       "      <td>I remember watching Jane Goodall documentaries...</td>\n",
       "      <td>0.8748</td>\n",
       "      <td>pos</td>\n",
       "      <td>0</td>\n",
       "      <td>0</td>\n",
       "    </tr>\n",
       "    <tr>\n",
       "      <th>1</th>\n",
       "      <td>1nvfumo</td>\n",
       "      <td>nh87tvb</td>\n",
       "      <td>u/clownus</td>\n",
       "      <td>2025-10-01T18:16:40+00:00</td>\n",
       "      <td>3594</td>\n",
       "      <td>Highly suggest people check out podcast or tal...</td>\n",
       "      <td>0.6335</td>\n",
       "      <td>pos</td>\n",
       "      <td>0</td>\n",
       "      <td>0</td>\n",
       "    </tr>\n",
       "    <tr>\n",
       "      <th>2</th>\n",
       "      <td>1nvfumo</td>\n",
       "      <td>nh89xsl</td>\n",
       "      <td>u/Renegadeforever2024</td>\n",
       "      <td>2025-10-01T18:26:49+00:00</td>\n",
       "      <td>432</td>\n",
       "      <td>One of one</td>\n",
       "      <td>0.0000</td>\n",
       "      <td>neu</td>\n",
       "      <td>0</td>\n",
       "      <td>0</td>\n",
       "    </tr>\n",
       "  </tbody>\n",
       "</table>\n",
       "</div>"
      ],
      "text/plain": [
       "   post_id comment_id                 author                    created  \\\n",
       "0  1nvfumo    nh892fi        u/MuptonBossman  2025-10-01T18:22:39+00:00   \n",
       "1  1nvfumo    nh87tvb              u/clownus  2025-10-01T18:16:40+00:00   \n",
       "2  1nvfumo    nh89xsl  u/Renegadeforever2024  2025-10-01T18:26:49+00:00   \n",
       "\n",
       "   score                                               body  vader_compound  \\\n",
       "0   2836  I remember watching Jane Goodall documentaries...          0.8748   \n",
       "1   3594  Highly suggest people check out podcast or tal...          0.6335   \n",
       "2    432                                         One of one          0.0000   \n",
       "\n",
       "  sentiment_label  agrees  disagrees  \n",
       "0             pos       0          0  \n",
       "1             pos       0          0  \n",
       "2             neu       0          0  "
      ]
     },
     "execution_count": 3,
     "metadata": {},
     "output_type": "execute_result"
    }
   ],
   "source": [
    "print(comments.shape)\n",
    "comments.head(3)"
   ]
  },
  {
   "cell_type": "code",
   "execution_count": 4,
   "id": "6834d8c0",
   "metadata": {},
   "outputs": [],
   "source": [
    "def clean_text(text):\n",
    "    if not isinstance(text, str):\n",
    "        return \"\"\n",
    "    \n",
    "    text = text.lower()\n",
    "    text = re.sub(r\"http\\S+|www\\S+\", \"\", text)\n",
    "    text = re.sub(r\"u\\/\\w+\", \"\", text)\n",
    "    text = re.sub(r\"r\\/\\w+\", \"\", text)\n",
    "    text = re.sub(r\"\\n+\", \" \", text)\n",
    "    text = re.sub(r\"[^a-zA-Záéíóúüñ0-9\\s]\", \"\", text)\n",
    "    text = re.sub(r\"\\s{2,}\", \" \", text).strip()\n",
    "    return text\n"
   ]
  },
  {
   "cell_type": "code",
   "execution_count": 5,
   "id": "16706d60",
   "metadata": {},
   "outputs": [
    {
     "data": {
      "text/html": [
       "<div>\n",
       "<style scoped>\n",
       "    .dataframe tbody tr th:only-of-type {\n",
       "        vertical-align: middle;\n",
       "    }\n",
       "\n",
       "    .dataframe tbody tr th {\n",
       "        vertical-align: top;\n",
       "    }\n",
       "\n",
       "    .dataframe thead th {\n",
       "        text-align: right;\n",
       "    }\n",
       "</style>\n",
       "<table border=\"1\" class=\"dataframe\">\n",
       "  <thead>\n",
       "    <tr style=\"text-align: right;\">\n",
       "      <th></th>\n",
       "      <th>body</th>\n",
       "      <th>clean_body</th>\n",
       "    </tr>\n",
       "  </thead>\n",
       "  <tbody>\n",
       "    <tr>\n",
       "      <th>0</th>\n",
       "      <td>I remember watching Jane Goodall documentaries...</td>\n",
       "      <td>i remember watching jane goodall documentaries...</td>\n",
       "    </tr>\n",
       "    <tr>\n",
       "      <th>1</th>\n",
       "      <td>Highly suggest people check out podcast or tal...</td>\n",
       "      <td>highly suggest people check out podcast or tal...</td>\n",
       "    </tr>\n",
       "    <tr>\n",
       "      <th>2</th>\n",
       "      <td>One of one</td>\n",
       "      <td>one of one</td>\n",
       "    </tr>\n",
       "  </tbody>\n",
       "</table>\n",
       "</div>"
      ],
      "text/plain": [
       "                                                body  \\\n",
       "0  I remember watching Jane Goodall documentaries...   \n",
       "1  Highly suggest people check out podcast or tal...   \n",
       "2                                         One of one   \n",
       "\n",
       "                                          clean_body  \n",
       "0  i remember watching jane goodall documentaries...  \n",
       "1  highly suggest people check out podcast or tal...  \n",
       "2                                         one of one  "
      ]
     },
     "execution_count": 5,
     "metadata": {},
     "output_type": "execute_result"
    }
   ],
   "source": [
    "comments[\"clean_body\"] = comments[\"body\"].apply(clean_text)\n",
    "\n",
    "comments[[\"body\", \"clean_body\"]].head(3)"
   ]
  },
  {
   "cell_type": "code",
   "execution_count": 6,
   "id": "1bf4f5a6",
   "metadata": {},
   "outputs": [
    {
     "name": "stdout",
     "output_type": "stream",
     "text": [
      "(10794, 11)\n"
     ]
    }
   ],
   "source": [
    "comments = comments.drop_duplicates(subset=[\"clean_body\"])\n",
    "comments = comments.dropna(subset=[\"clean_body\", \"sentiment_label\"])\n",
    "comments = comments[comments[\"clean_body\"].str.len() > 3]\n",
    "\n",
    "print(comments.shape)"
   ]
  },
  {
   "cell_type": "code",
   "execution_count": null,
   "id": "f7225512",
   "metadata": {},
   "outputs": [
    {
     "name": "stderr",
     "output_type": "stream",
     "text": [
      "[nltk_data] Downloading package stopwords to\n",
      "[nltk_data]     /Users/melissa/nltk_data...\n",
      "[nltk_data]   Unzipping corpora/stopwords.zip.\n",
      "[nltk_data] Downloading package wordnet to /Users/melissa/nltk_data...\n",
      "[nltk_data]   Package wordnet is already up-to-date!\n",
      "[nltk_data] Downloading package omw-1.4 to /Users/melissa/nltk_data...\n"
     ]
    },
    {
     "data": {
      "text/html": [
       "<div>\n",
       "<style scoped>\n",
       "    .dataframe tbody tr th:only-of-type {\n",
       "        vertical-align: middle;\n",
       "    }\n",
       "\n",
       "    .dataframe tbody tr th {\n",
       "        vertical-align: top;\n",
       "    }\n",
       "\n",
       "    .dataframe thead th {\n",
       "        text-align: right;\n",
       "    }\n",
       "</style>\n",
       "<table border=\"1\" class=\"dataframe\">\n",
       "  <thead>\n",
       "    <tr style=\"text-align: right;\">\n",
       "      <th></th>\n",
       "      <th>clean_body</th>\n",
       "      <th>processed_text</th>\n",
       "    </tr>\n",
       "  </thead>\n",
       "  <tbody>\n",
       "    <tr>\n",
       "      <th>0</th>\n",
       "      <td>i remember watching jane goodall documentaries...</td>\n",
       "      <td>remember watching jane goodall documentary ele...</td>\n",
       "    </tr>\n",
       "    <tr>\n",
       "      <th>1</th>\n",
       "      <td>highly suggest people check out podcast or tal...</td>\n",
       "      <td>highly suggest people check podcast talk one i...</td>\n",
       "    </tr>\n",
       "    <tr>\n",
       "      <th>2</th>\n",
       "      <td>one of one</td>\n",
       "      <td>one one</td>\n",
       "    </tr>\n",
       "  </tbody>\n",
       "</table>\n",
       "</div>"
      ],
      "text/plain": [
       "                                          clean_body  \\\n",
       "0  i remember watching jane goodall documentaries...   \n",
       "1  highly suggest people check out podcast or tal...   \n",
       "2                                         one of one   \n",
       "\n",
       "                                      processed_text  \n",
       "0  remember watching jane goodall documentary ele...  \n",
       "1  highly suggest people check podcast talk one i...  \n",
       "2                                            one one  "
      ]
     },
     "execution_count": 7,
     "metadata": {},
     "output_type": "execute_result"
    }
   ],
   "source": [
    "nltk.download(\"stopwords\")\n",
    "nltk.download(\"wordnet\")\n",
    "nltk.download(\"omw-1.4\")\n",
    "\n",
    "stop_words = set(stopwords.words(\"english\"))\n",
    "lemmatizer = WordNetLemmatizer()\n",
    "\n",
    "def preprocess_tokens(text):\n",
    "    tokens = text.split()\n",
    "    tokens = [t for t in tokens if t not in stop_words]\n",
    "    tokens = [lemmatizer.lemmatize(t) for t in tokens]\n",
    "    return \" \".join(tokens)\n",
    "\n",
    "comments[\"processed_text\"] = comments[\"clean_body\"].apply(preprocess_tokens)\n",
    "comments[[\"clean_body\", \"processed_text\"]].head(3)\n"
   ]
  }
 ],
 "metadata": {
  "kernelspec": {
   "display_name": ".venv (3.11.10)",
   "language": "python",
   "name": "python3"
  },
  "language_info": {
   "codemirror_mode": {
    "name": "ipython",
    "version": 3
   },
   "file_extension": ".py",
   "mimetype": "text/x-python",
   "name": "python",
   "nbconvert_exporter": "python",
   "pygments_lexer": "ipython3",
   "version": "3.11.10"
  }
 },
 "nbformat": 4,
 "nbformat_minor": 5
}
